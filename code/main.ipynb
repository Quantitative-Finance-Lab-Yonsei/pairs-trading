{
 "cells": [
  {
   "cell_type": "code",
   "execution_count": 1,
   "metadata": {},
   "outputs": [],
   "source": [
    "import warnings\n",
    "\n",
    "import matplotlib.pyplot as plt\n",
    "import numpy as np\n",
    "import pandas as pd\n",
    "import seaborn as sns\n",
    "from tqdm import tqdm\n",
    "from utils import (\n",
    "    calculate_stats,\n",
    "    find_cointegrated_pairs,\n",
    "    find_distance_pairs,\n",
    "    find_pairs_from_list,\n",
    "    find_pairs_from_two_lists,\n",
    "    pairs_trade,\n",
    "    pairs_trade_loop,\n",
    "    pairs_trade_with_selection,\n",
    ")\n",
    "\n",
    "\n",
    "warnings.filterwarnings(\"ignore\")"
   ]
  },
  {
   "cell_type": "code",
   "execution_count": 2,
   "metadata": {},
   "outputs": [
    {
     "data": {
      "application/vnd.microsoft.datawrangler.viewer.v0+json": {
       "columns": [
        {
         "name": "Date",
         "rawType": "object",
         "type": "string"
        },
        {
         "name": "ethanol",
         "rawType": "float64",
         "type": "float"
        },
        {
         "name": "oats",
         "rawType": "float64",
         "type": "float"
        },
        {
         "name": "wheat",
         "rawType": "float64",
         "type": "float"
        },
        {
         "name": "sugarcane",
         "rawType": "float64",
         "type": "float"
        },
        {
         "name": "canola",
         "rawType": "float64",
         "type": "float"
        },
        {
         "name": "soybean",
         "rawType": "float64",
         "type": "float"
        },
        {
         "name": "corn",
         "rawType": "float64",
         "type": "float"
        },
        {
         "name": "gasolinerbob",
         "rawType": "float64",
         "type": "float"
        }
       ],
       "conversionMethod": "pd.DataFrame",
       "ref": "f640b322-b3cf-470d-8e13-7fce96bdca5f",
       "rows": [
        [
         "2000-01-04",
         "1.285",
         "109.0",
         "247.25",
         "5.77",
         "251.3",
         "464.25",
         "203.0",
         "0.685"
        ],
        [
         "2000-01-05",
         "1.286",
         "109.25",
         "249.75",
         "5.81",
         "252.6",
         "469.25",
         "203.0",
         "0.6758"
        ],
        [
         "2000-01-06",
         "1.28",
         "109.0",
         "248.5",
         "5.77",
         "254.7",
         "468.0",
         "203.75",
         "0.6789"
        ],
        [
         "2000-01-07",
         "1.28",
         "109.5",
         "251.75",
         "5.84",
         "256.5",
         "471.5",
         "207.0",
         "0.661"
        ],
        [
         "2000-01-10",
         "1.281",
         "109.5",
         "253.5",
         "5.83",
         "253.8",
         "473.5",
         "208.5",
         "0.6696"
        ]
       ],
       "shape": {
        "columns": 8,
        "rows": 5
       }
      },
      "text/html": [
       "<div>\n",
       "<style scoped>\n",
       "    .dataframe tbody tr th:only-of-type {\n",
       "        vertical-align: middle;\n",
       "    }\n",
       "\n",
       "    .dataframe tbody tr th {\n",
       "        vertical-align: top;\n",
       "    }\n",
       "\n",
       "    .dataframe thead th {\n",
       "        text-align: right;\n",
       "    }\n",
       "</style>\n",
       "<table border=\"1\" class=\"dataframe\">\n",
       "  <thead>\n",
       "    <tr style=\"text-align: right;\">\n",
       "      <th></th>\n",
       "      <th>ethanol</th>\n",
       "      <th>oats</th>\n",
       "      <th>wheat</th>\n",
       "      <th>sugarcane</th>\n",
       "      <th>canola</th>\n",
       "      <th>soybean</th>\n",
       "      <th>corn</th>\n",
       "      <th>gasolinerbob</th>\n",
       "    </tr>\n",
       "    <tr>\n",
       "      <th>Date</th>\n",
       "      <th></th>\n",
       "      <th></th>\n",
       "      <th></th>\n",
       "      <th></th>\n",
       "      <th></th>\n",
       "      <th></th>\n",
       "      <th></th>\n",
       "      <th></th>\n",
       "    </tr>\n",
       "  </thead>\n",
       "  <tbody>\n",
       "    <tr>\n",
       "      <th>2000-01-04</th>\n",
       "      <td>1.285</td>\n",
       "      <td>109.00</td>\n",
       "      <td>247.25</td>\n",
       "      <td>5.77</td>\n",
       "      <td>251.3</td>\n",
       "      <td>464.25</td>\n",
       "      <td>203.00</td>\n",
       "      <td>0.6850</td>\n",
       "    </tr>\n",
       "    <tr>\n",
       "      <th>2000-01-05</th>\n",
       "      <td>1.286</td>\n",
       "      <td>109.25</td>\n",
       "      <td>249.75</td>\n",
       "      <td>5.81</td>\n",
       "      <td>252.6</td>\n",
       "      <td>469.25</td>\n",
       "      <td>203.00</td>\n",
       "      <td>0.6758</td>\n",
       "    </tr>\n",
       "    <tr>\n",
       "      <th>2000-01-06</th>\n",
       "      <td>1.280</td>\n",
       "      <td>109.00</td>\n",
       "      <td>248.50</td>\n",
       "      <td>5.77</td>\n",
       "      <td>254.7</td>\n",
       "      <td>468.00</td>\n",
       "      <td>203.75</td>\n",
       "      <td>0.6789</td>\n",
       "    </tr>\n",
       "    <tr>\n",
       "      <th>2000-01-07</th>\n",
       "      <td>1.280</td>\n",
       "      <td>109.50</td>\n",
       "      <td>251.75</td>\n",
       "      <td>5.84</td>\n",
       "      <td>256.5</td>\n",
       "      <td>471.50</td>\n",
       "      <td>207.00</td>\n",
       "      <td>0.6610</td>\n",
       "    </tr>\n",
       "    <tr>\n",
       "      <th>2000-01-10</th>\n",
       "      <td>1.281</td>\n",
       "      <td>109.50</td>\n",
       "      <td>253.50</td>\n",
       "      <td>5.83</td>\n",
       "      <td>253.8</td>\n",
       "      <td>473.50</td>\n",
       "      <td>208.50</td>\n",
       "      <td>0.6696</td>\n",
       "    </tr>\n",
       "  </tbody>\n",
       "</table>\n",
       "</div>"
      ],
      "text/plain": [
       "            ethanol    oats   wheat  sugarcane  canola  soybean    corn  \\\n",
       "Date                                                                      \n",
       "2000-01-04    1.285  109.00  247.25       5.77   251.3   464.25  203.00   \n",
       "2000-01-05    1.286  109.25  249.75       5.81   252.6   469.25  203.00   \n",
       "2000-01-06    1.280  109.00  248.50       5.77   254.7   468.00  203.75   \n",
       "2000-01-07    1.280  109.50  251.75       5.84   256.5   471.50  207.00   \n",
       "2000-01-10    1.281  109.50  253.50       5.83   253.8   473.50  208.50   \n",
       "\n",
       "            gasolinerbob  \n",
       "Date                      \n",
       "2000-01-04        0.6850  \n",
       "2000-01-05        0.6758  \n",
       "2000-01-06        0.6789  \n",
       "2000-01-07        0.6610  \n",
       "2000-01-10        0.6696  "
      ]
     },
     "execution_count": 2,
     "metadata": {},
     "output_type": "execute_result"
    }
   ],
   "source": [
    "# load preprocessed data\n",
    "data_df = pd.read_csv(\"data.csv\", index_col=0)\n",
    "data_df.head()"
   ]
  },
  {
   "cell_type": "markdown",
   "metadata": {},
   "source": [
    "## Trading without Pair Selectioin"
   ]
  },
  {
   "cell_type": "markdown",
   "metadata": {},
   "source": [
    "### Example 6 month of trading a single pair"
   ]
  },
  {
   "cell_type": "code",
   "execution_count": 3,
   "metadata": {},
   "outputs": [
    {
     "name": "stdout",
     "output_type": "stream",
     "text": [
      "return over the 6 month period is 0.051\n"
     ]
    },
    {
     "data": {
      "image/png": "[encoded data removed]",
      "text/plain": [
       "<Figure size 1200x400 with 1 Axes>"
      ]
     },
     "metadata": {},
     "output_type": "display_data"
    }
   ],
   "source": [
    "import warnings\n",
    "\n",
    "\n",
    "warnings.filterwarnings(\"ignore\")\n",
    "\n",
    "############ INPUTS #########################\n",
    "window_size = 252\n",
    "i = 0\n",
    "sigma = 2\n",
    "asset_a = \"ethanol\"\n",
    "asset_b = \"canola\"\n",
    "transaction_cost = 0.005\n",
    "############################################\n",
    "\n",
    "temp_df, pair_return_list, final_cum_return = pairs_trade(\n",
    "    data_df[i : i + window_size + 126],\n",
    "    asset_a,\n",
    "    asset_b,\n",
    "    sigma=sigma,\n",
    "    window_size=window_size,\n",
    "    transaction_cost=transaction_cost,\n",
    "    plot=True,\n",
    ")\n",
    "print(f\"return over the 6 month period is {final_cum_return:.3f}\")"
   ]
  },
  {
   "cell_type": "code",
   "execution_count": 4,
   "metadata": {},
   "outputs": [
    {
     "data": {
      "text/plain": [
       "{'mean_return': 0.056421132862644496,\n",
       " 'std_return': 0.0,\n",
       " 'min_return': 0.056421132862644496,\n",
       " 'max_return': 0.056421132862644496,\n",
       " 'q1_return': 0.056421132862644496,\n",
       " 'q3_return': 0.056421132862644496,\n",
       " 'sharpe_ratio': nan,\n",
       " 'skew_return': nan,\n",
       " 'kurtosis_return': nan}"
      ]
     },
     "execution_count": 4,
     "metadata": {},
     "output_type": "execute_result"
    }
   ],
   "source": [
    "calculate_stats(pair_return_list)"
   ]
  },
  {
   "cell_type": "markdown",
   "metadata": {},
   "source": [
    "### Single pair 6 month trading (1 month step interval)"
   ]
  },
  {
   "cell_type": "code",
   "execution_count": 5,
   "metadata": {},
   "outputs": [],
   "source": [
    "asset_a = \"ethanol\"\n",
    "asset_b = \"sugarcane\"\n",
    "step_size = 20\n",
    "results = pairs_trade_loop(data_df, asset_a, asset_b, step_size)"
   ]
  },
  {
   "cell_type": "code",
   "execution_count": 6,
   "metadata": {},
   "outputs": [
    {
     "data": {
      "text/plain": [
       "(array([ 3.,  7.,  6., 12., 12., 37., 39., 40., 43., 33., 27., 22., 11.,\n",
       "        11.,  5.,  3.,  2.,  2.,  0.,  1.]),\n",
       " array([-0.29966913, -0.26886121, -0.23805329, -0.20724537, -0.17643745,\n",
       "        -0.14562952, -0.1148216 , -0.08401368, -0.05320576, -0.02239784,\n",
       "         0.00841008,  0.039218  ,  0.07002592,  0.10083384,  0.13164176,\n",
       "         0.16244968,  0.1932576 ,  0.22406552,  0.25487344,  0.28568136,\n",
       "         0.31648928]),\n",
       " <BarContainer object of 20 artists>)"
      ]
     },
     "execution_count": 6,
     "metadata": {},
     "output_type": "execute_result"
    },
    {
     "data": {
      "image/png": "[encoded data removed]",
      "text/plain": [
       "<Figure size 640x480 with 1 Axes>"
      ]
     },
     "metadata": {},
     "output_type": "display_data"
    }
   ],
   "source": [
    "plt.hist(results, bins=20)"
   ]
  },
  {
   "cell_type": "markdown",
   "metadata": {},
   "source": [
    "### Multiple iterations"
   ]
  },
  {
   "cell_type": "code",
   "execution_count": 7,
   "metadata": {},
   "outputs": [],
   "source": [
    "def annualize_return(returns, days_trading=252):\n",
    "    return (1 + returns) ** (252 / days_trading) - 1"
   ]
  },
  {
   "cell_type": "code",
   "execution_count": 8,
   "metadata": {},
   "outputs": [
    {
     "name": "stdout",
     "output_type": "stream",
     "text": [
      "28 [('ethanol', 'oats'), ('ethanol', 'wheat'), ('ethanol', 'sugarcane'), ('ethanol', 'canola'), ('ethanol', 'soybean'), ('ethanol', 'corn'), ('ethanol', 'gasolinerbob'), ('oats', 'wheat'), ('oats', 'sugarcane'), ('oats', 'canola'), ('oats', 'soybean'), ('oats', 'corn'), ('oats', 'gasolinerbob'), ('wheat', 'sugarcane'), ('wheat', 'canola'), ('wheat', 'soybean'), ('wheat', 'corn'), ('wheat', 'gasolinerbob'), ('sugarcane', 'canola'), ('sugarcane', 'soybean'), ('sugarcane', 'corn'), ('sugarcane', 'gasolinerbob'), ('canola', 'soybean'), ('canola', 'corn'), ('canola', 'gasolinerbob'), ('soybean', 'corn'), ('soybean', 'gasolinerbob'), ('corn', 'gasolinerbob')]\n"
     ]
    }
   ],
   "source": [
    "commodity_pairs = find_pairs_from_list(data_df.columns[:].tolist())\n",
    "print(len(commodity_pairs), commodity_pairs)\n",
    "\n",
    "step_size = 20\n",
    "transaction_cost = 0.005"
   ]
  },
  {
   "cell_type": "code",
   "execution_count": 9,
   "metadata": {},
   "outputs": [
    {
     "name": "stderr",
     "output_type": "stream",
     "text": [
      "100%|██████████| 28/28 [03:28<00:00,  7.44s/it]"
     ]
    },
    {
     "name": "stdout",
     "output_type": "stream",
     "text": [
      "Mean Return: 0.02580083030805928\n",
      "Standard Deviation: 0.08820086297671252\n",
      "Minimum Return: -0.40310364954152755\n",
      "Maximum Return: 0.5513246349819605\n",
      "25th Percentile (Q1): -0.006622439843439659\n",
      "75th Percentile (Q3): 0.07362896767590504\n",
      "Sharpe Ratio: 0.29252355858322404\n",
      "Skewness: 0.3156680046812773\n",
      "Kurtosis: 2.3286961391523553\n"
     ]
    },
    {
     "name": "stderr",
     "output_type": "stream",
     "text": [
      "\n"
     ]
    },
    {
     "data": {
      "image/png": "[encoded data removed]",
      "text/plain": [
       "<Figure size 640x480 with 1 Axes>"
      ]
     },
     "metadata": {},
     "output_type": "display_data"
    }
   ],
   "source": [
    "# all pairs\n",
    "results = []\n",
    "for i, j in tqdm(commodity_pairs):\n",
    "    # _, temp = pairs_trade(data_df, i, j, window_size=252, sigma=2, transaction_cost=0.01, plot=True, figsize=(12, 4))\n",
    "    temp = pairs_trade_loop(\n",
    "        data_df, i, j, window_size=252, sigma=2, transaction_cost=0.005, plot=False, figsize=(12, 4)\n",
    "    )\n",
    "    results.extend(temp)\n",
    "\n",
    "plt.hist(results, bins=20)\n",
    "summary_stats = calculate_stats(results, printing=True)"
   ]
  },
  {
   "cell_type": "code",
   "execution_count": 10,
   "metadata": {},
   "outputs": [
    {
     "data": {
      "image/png": "[encoded data removed]",
      "text/plain": [
       "<Figure size 1000x600 with 1 Axes>"
      ]
     },
     "metadata": {},
     "output_type": "display_data"
    }
   ],
   "source": [
    "plt.figure(figsize=(10, 6))\n",
    "plt.boxplot(results)\n",
    "plt.title(\"Boxplot of Trading Results\")\n",
    "plt.ylabel(\"Returns\")\n",
    "plt.show()"
   ]
  },
  {
   "cell_type": "code",
   "execution_count": 11,
   "metadata": {},
   "outputs": [
    {
     "data": {
      "text/plain": [
       "{'mean_return': 0.02580083030805928,\n",
       " 'std_return': 0.08820086297671252,\n",
       " 'min_return': -0.40310364954152755,\n",
       " 'max_return': 0.5513246349819605,\n",
       " 'q1_return': -0.006622439843439659,\n",
       " 'q3_return': 0.07362896767590504,\n",
       " 'sharpe_ratio': 0.29252355858322404,\n",
       " 'skew_return': 0.3156680046812773,\n",
       " 'kurtosis_return': 2.3286961391523553}"
      ]
     },
     "execution_count": 11,
     "metadata": {},
     "output_type": "execute_result"
    }
   ],
   "source": [
    "calculate_stats(results)"
   ]
  },
  {
   "cell_type": "code",
   "execution_count": 12,
   "metadata": {},
   "outputs": [
    {
     "name": "stderr",
     "output_type": "stream",
     "text": [
      "100%|██████████| 3/3 [00:23<00:00,  7.77s/it]"
     ]
    },
    {
     "name": "stdout",
     "output_type": "stream",
     "text": [
      "Mean Return: 0.01670924466558915\n",
      "Standard Deviation: 0.07107688560418732\n",
      "Minimum Return: -0.28530314460833495\n",
      "Maximum Return: 0.24867523072308728\n",
      "25th Percentile (Q1): -0.009636316131163225\n",
      "75th Percentile (Q3): 0.054780898546804235\n",
      "Sharpe Ratio: 0.23508689953917689\n",
      "Skewness: -0.0008643669167094347\n",
      "Kurtosis: 1.5429629422788507\n"
     ]
    },
    {
     "name": "stderr",
     "output_type": "stream",
     "text": [
      "\n"
     ]
    }
   ],
   "source": [
    "# Biodiesel feedstocks\n",
    "biodiesel_feedstocks = [\"canola\", \"oats\", \"soybean\"]\n",
    "biodiesel_feedstocks_pairs = find_pairs_from_list(biodiesel_feedstocks)\n",
    "biodiesel_returns = []\n",
    "\n",
    "for i, j in tqdm(biodiesel_feedstocks_pairs):\n",
    "    # _, temp = pairs_trade(data_df, i, j, window_size=252, sigma=2, transaction_cost=0.01, plot=True, figsize=(12, 4))\n",
    "    temp = pairs_trade_loop(data_df, i, j, transaction_cost=transaction_cost)\n",
    "    biodiesel_returns.extend(temp)\n",
    "\n",
    "results_biodiesel_feedstocks = calculate_stats(biodiesel_returns, printing=True)"
   ]
  },
  {
   "cell_type": "code",
   "execution_count": 13,
   "metadata": {},
   "outputs": [
    {
     "data": {
      "text/plain": [
       "{'mean_return': 0.01670924466558915,\n",
       " 'std_return': 0.07107688560418732,\n",
       " 'min_return': -0.28530314460833495,\n",
       " 'max_return': 0.24867523072308728,\n",
       " 'q1_return': -0.009636316131163225,\n",
       " 'q3_return': 0.054780898546804235,\n",
       " 'sharpe_ratio': 0.23508689953917689,\n",
       " 'skew_return': -0.0008643669167094347,\n",
       " 'kurtosis_return': 1.5429629422788507}"
      ]
     },
     "execution_count": 13,
     "metadata": {},
     "output_type": "execute_result"
    }
   ],
   "source": [
    "calculate_stats(annualize_return(np.array(biodiesel_returns)))"
   ]
  },
  {
   "cell_type": "code",
   "execution_count": 14,
   "metadata": {},
   "outputs": [
    {
     "name": "stderr",
     "output_type": "stream",
     "text": [
      "100%|██████████| 3/3 [00:22<00:00,  7.61s/it]"
     ]
    },
    {
     "name": "stdout",
     "output_type": "stream",
     "text": [
      "Mean Return: 0.007657698996694461\n",
      "Standard Deviation: 0.08819640933600158\n",
      "Minimum Return: -0.3206046455870848\n",
      "Maximum Return: 0.26515184681798964\n",
      "25th Percentile (Q1): -0.02559681345976217\n",
      "75th Percentile (Q3): 0.06025208096057677\n",
      "Sharpe Ratio: 0.08682551879772055\n",
      "Skewness: -0.3259840847689639\n",
      "Kurtosis: 0.7961389042831937\n"
     ]
    },
    {
     "name": "stderr",
     "output_type": "stream",
     "text": [
      "\n"
     ]
    }
   ],
   "source": [
    "ethanol_feedstocks = [\"corn\", \"wheat\", \"sugarcane\"]\n",
    "ethanol_feedstocks_pairs = find_pairs_from_list(ethanol_feedstocks)\n",
    "ethanol_returns = []\n",
    "\n",
    "for i, j in tqdm(ethanol_feedstocks_pairs):\n",
    "    # _, temp = pairs_trade(data_df, i, j, window_size=252, sigma=2, transaction_cost=0.01, plot=True, figsize=(12, 4))\n",
    "    temp = pairs_trade_loop(data_df, i, j, transaction_cost=transaction_cost)\n",
    "    ethanol_returns.extend(temp)\n",
    "\n",
    "results_ethanol_feedstocks = calculate_stats(ethanol_returns, printing=True)"
   ]
  },
  {
   "cell_type": "code",
   "execution_count": 15,
   "metadata": {},
   "outputs": [
    {
     "data": {
      "text/plain": [
       "{'mean_return': 0.007657698996694461,\n",
       " 'std_return': 0.08819640933600158,\n",
       " 'min_return': -0.3206046455870848,\n",
       " 'max_return': 0.26515184681798964,\n",
       " 'q1_return': -0.02559681345976217,\n",
       " 'q3_return': 0.06025208096057677,\n",
       " 'sharpe_ratio': 0.08682551879772055,\n",
       " 'skew_return': -0.3259840847689639,\n",
       " 'kurtosis_return': 0.7961389042831937}"
      ]
     },
     "execution_count": 15,
     "metadata": {},
     "output_type": "execute_result"
    }
   ],
   "source": [
    "calculate_stats(annualize_return(np.array(ethanol_returns)))"
   ]
  },
  {
   "cell_type": "code",
   "execution_count": 16,
   "metadata": {},
   "outputs": [
    {
     "name": "stderr",
     "output_type": "stream",
     "text": [
      "100%|██████████| 1/1 [00:07<00:00,  7.91s/it]"
     ]
    },
    {
     "name": "stdout",
     "output_type": "stream",
     "text": [
      "Mean Return: 0.061984864212569324\n",
      "Standard Deviation: 0.09765939049193809\n",
      "Minimum Return: -0.14232493898250875\n",
      "Maximum Return: 0.4734988990072966\n",
      "25th Percentile (Q1): 0.0\n",
      "75th Percentile (Q3): 0.12319949442480449\n",
      "Sharpe Ratio: 0.6347045983016478\n",
      "Skewness: 0.8973907159818251\n",
      "Kurtosis: 0.793406772889397\n"
     ]
    },
    {
     "name": "stderr",
     "output_type": "stream",
     "text": [
      "\n"
     ]
    }
   ],
   "source": [
    "### ethanol은 오히려 gasoline이랑 pairing 가능한 거 아닌가?\n",
    "fuel_feedstocks = [\"ethanol\", \"gasolinerbob\"]\n",
    "fuel_feedstocks_pairs = find_pairs_from_list(fuel_feedstocks)\n",
    "fuel_returns = []\n",
    "\n",
    "for i, j in tqdm(fuel_feedstocks_pairs):\n",
    "    # _, temp = pairs_trade(data_df, i, j, window_size=252, sigma=2, transaction_cost=0.01, plot=True, figsize=(12, 4))\n",
    "    temp = pairs_trade_loop(data_df, i, j, transaction_cost=transaction_cost)\n",
    "    fuel_returns.extend(temp)\n",
    "\n",
    "results_fuel_feedstocks = calculate_stats(fuel_returns, printing=True)"
   ]
  },
  {
   "cell_type": "code",
   "execution_count": 17,
   "metadata": {},
   "outputs": [
    {
     "data": {
      "text/plain": [
       "{'mean_return': 0.061984864212569324,\n",
       " 'std_return': 0.09765939049193809,\n",
       " 'min_return': -0.14232493898250875,\n",
       " 'max_return': 0.4734988990072966,\n",
       " 'q1_return': 0.0,\n",
       " 'q3_return': 0.12319949442480449,\n",
       " 'sharpe_ratio': 0.6347045983016478,\n",
       " 'skew_return': 0.8973907159818251,\n",
       " 'kurtosis_return': 0.793406772889397}"
      ]
     },
     "execution_count": 17,
     "metadata": {},
     "output_type": "execute_result"
    }
   ],
   "source": [
    "calculate_stats(annualize_return(np.array(fuel_returns)))"
   ]
  },
  {
   "cell_type": "code",
   "execution_count": 19,
   "metadata": {},
   "outputs": [
    {
     "name": "stderr",
     "output_type": "stream",
     "text": [
      "100%|██████████| 9/9 [01:09<00:00,  7.68s/it]\n"
     ]
    },
    {
     "data": {
      "text/plain": [
       "{'mean_return': 0.015314961214304628,\n",
       " 'std_return': 0.07817821569346727,\n",
       " 'min_return': -0.2901243554231159,\n",
       " 'max_return': 0.49155276940102866,\n",
       " 'q1_return': -0.015172348345859343,\n",
       " 'q3_return': 0.05915605603448282,\n",
       " 'sharpe_ratio': 0.19589806544515928,\n",
       " 'skew_return': 0.05606835581289642,\n",
       " 'kurtosis_return': 2.5450292941496846}"
      ]
     },
     "execution_count": 19,
     "metadata": {},
     "output_type": "execute_result"
    }
   ],
   "source": [
    "biodiesel_ethanol_feedstocks_pairs = find_pairs_from_two_lists(biodiesel_feedstocks, ethanol_feedstocks)\n",
    "results = []\n",
    "\n",
    "for i, j in tqdm(biodiesel_ethanol_feedstocks_pairs):\n",
    "    temp = pairs_trade_loop(data_df, i, j, transaction_cost=transaction_cost)\n",
    "    results.extend(temp)\n",
    "\n",
    "results_biodiesel_ethanol_feedstocks = calculate_stats(annualize_return(np.array(results)))\n",
    "results_biodiesel_ethanol_feedstocks"
   ]
  },
  {
   "cell_type": "code",
   "execution_count": 20,
   "metadata": {},
   "outputs": [
    {
     "name": "stderr",
     "output_type": "stream",
     "text": [
      "100%|██████████| 6/6 [00:46<00:00,  7.83s/it]"
     ]
    },
    {
     "name": "stdout",
     "output_type": "stream",
     "text": [
      "Mean Return: 0.03673563604822241\n",
      "Standard Deviation: 0.09501380890227387\n",
      "Minimum Return: -0.40310364954152755\n",
      "Maximum Return: 0.50915599135928\n",
      "25th Percentile (Q1): 0.0\n",
      "75th Percentile (Q3): 0.09183800471478043\n",
      "Sharpe Ratio: 0.38663470576163006\n",
      "Skewness: 0.1718937102155029\n",
      "Kurtosis: 2.351623492228743\n"
     ]
    },
    {
     "name": "stderr",
     "output_type": "stream",
     "text": [
      "\n"
     ]
    },
    {
     "data": {
      "text/plain": [
       "{'mean_return': 0.03673563604822241,\n",
       " 'std_return': 0.09501380890227387,\n",
       " 'min_return': -0.40310364954152755,\n",
       " 'max_return': 0.50915599135928,\n",
       " 'q1_return': 0.0,\n",
       " 'q3_return': 0.09183800471478043,\n",
       " 'sharpe_ratio': 0.38663470576163006,\n",
       " 'skew_return': 0.1718937102155029,\n",
       " 'kurtosis_return': 2.351623492228743}"
      ]
     },
     "execution_count": 20,
     "metadata": {},
     "output_type": "execute_result"
    }
   ],
   "source": [
    "biodiesel_fuel_pairs = find_pairs_from_two_lists(biodiesel_feedstocks, fuel_feedstocks)\n",
    "results = []\n",
    "\n",
    "for i, j in tqdm(biodiesel_fuel_pairs):\n",
    "    temp = pairs_trade_loop(data_df, i, j, transaction_cost=transaction_cost)\n",
    "    results.extend(temp)\n",
    "\n",
    "results_biodiesel_fuel_feedstocks = calculate_stats(annualize_return(np.array(results)), printing=True)\n",
    "results_biodiesel_fuel_feedstocks"
   ]
  },
  {
   "cell_type": "code",
   "execution_count": 21,
   "metadata": {},
   "outputs": [
    {
     "name": "stderr",
     "output_type": "stream",
     "text": [
      "100%|██████████| 6/6 [00:46<00:00,  7.73s/it]\n"
     ]
    },
    {
     "data": {
      "text/plain": [
       "{'mean_return': 0.03818151436802727,\n",
       " 'std_return': 0.09613387138774789,\n",
       " 'min_return': -0.29493641073405763,\n",
       " 'max_return': 0.5513246349819605,\n",
       " 'q1_return': 0.0,\n",
       " 'q3_return': 0.09647445308986269,\n",
       " 'sharpe_ratio': 0.3971702566104442,\n",
       " 'skew_return': 0.6155044230142666,\n",
       " 'kurtosis_return': 1.9736342157897866}"
      ]
     },
     "execution_count": 21,
     "metadata": {},
     "output_type": "execute_result"
    }
   ],
   "source": [
    "ethanol_fuel_pairs = find_pairs_from_two_lists(ethanol_feedstocks, fuel_feedstocks)\n",
    "results = []\n",
    "\n",
    "for i, j in tqdm(ethanol_fuel_pairs):\n",
    "    temp = pairs_trade_loop(data_df, i, j, transaction_cost=transaction_cost)\n",
    "    results.extend(temp)\n",
    "\n",
    "results_ethanol_fuel_feedstocks = calculate_stats(annualize_return(np.array(results)))\n",
    "results_ethanol_fuel_feedstocks"
   ]
  },
  {
   "cell_type": "markdown",
   "metadata": {},
   "source": [
    "## Pair Selection Stage"
   ]
  },
  {
   "cell_type": "markdown",
   "metadata": {},
   "source": [
    "- Input: A dataframe of closing prices\n",
    "  - Assert that the length of the dataframe is at least 18 months\n",
    "- Optional inputs: optimal_threshold, trading_cost, specific pairs,\n",
    "\n",
    "\n",
    "- Form pairs by using 12 months of daily price data and then trade them in the subsequent 6-month interval.\n",
    "- Form pairs by finding a \"partner\" that minimizes the sum of squared differences (SSD) in the normalized prices of the two stocks\n",
    "- $1 long and short positions.\n",
    "- Repeat the 12+6 implementation cycle every month.\n",
    "- all trades have a one-day delay to alleviate concerns reparding potential upward bias in the reported returns induced by bid-ask bounce."
   ]
  },
  {
   "cell_type": "markdown",
   "metadata": {},
   "source": [
    "### Co-integration"
   ]
  },
  {
   "cell_type": "code",
   "execution_count": 22,
   "metadata": {},
   "outputs": [
    {
     "data": {
      "application/vnd.microsoft.datawrangler.viewer.v0+json": {
       "columns": [
        {
         "name": "Date",
         "rawType": "object",
         "type": "string"
        },
        {
         "name": "ethanol",
         "rawType": "float64",
         "type": "float"
        },
        {
         "name": "oats",
         "rawType": "float64",
         "type": "float"
        },
        {
         "name": "wheat",
         "rawType": "float64",
         "type": "float"
        },
        {
         "name": "sugarcane",
         "rawType": "float64",
         "type": "float"
        },
        {
         "name": "canola",
         "rawType": "float64",
         "type": "float"
        },
        {
         "name": "soybean",
         "rawType": "float64",
         "type": "float"
        },
        {
         "name": "corn",
         "rawType": "float64",
         "type": "float"
        },
        {
         "name": "gasolinerbob",
         "rawType": "float64",
         "type": "float"
        }
       ],
       "conversionMethod": "pd.DataFrame",
       "ref": "086a8759-f81b-446c-8676-3af47643339c",
       "rows": [
        [
         "2000-01-04",
         "1.285",
         "109.0",
         "247.25",
         "5.77",
         "251.3",
         "464.25",
         "203.0",
         "0.685"
        ],
        [
         "2000-01-05",
         "1.286",
         "109.25",
         "249.75",
         "5.81",
         "252.6",
         "469.25",
         "203.0",
         "0.6758"
        ],
        [
         "2000-01-06",
         "1.28",
         "109.0",
         "248.5",
         "5.77",
         "254.7",
         "468.0",
         "203.75",
         "0.6789"
        ],
        [
         "2000-01-07",
         "1.28",
         "109.5",
         "251.75",
         "5.84",
         "256.5",
         "471.5",
         "207.0",
         "0.661"
        ],
        [
         "2000-01-10",
         "1.281",
         "109.5",
         "253.5",
         "5.83",
         "253.8",
         "473.5",
         "208.5",
         "0.6696"
        ]
       ],
       "shape": {
        "columns": 8,
        "rows": 5
       }
      },
      "text/html": [
       "<div>\n",
       "<style scoped>\n",
       "    .dataframe tbody tr th:only-of-type {\n",
       "        vertical-align: middle;\n",
       "    }\n",
       "\n",
       "    .dataframe tbody tr th {\n",
       "        vertical-align: top;\n",
       "    }\n",
       "\n",
       "    .dataframe thead th {\n",
       "        text-align: right;\n",
       "    }\n",
       "</style>\n",
       "<table border=\"1\" class=\"dataframe\">\n",
       "  <thead>\n",
       "    <tr style=\"text-align: right;\">\n",
       "      <th></th>\n",
       "      <th>ethanol</th>\n",
       "      <th>oats</th>\n",
       "      <th>wheat</th>\n",
       "      <th>sugarcane</th>\n",
       "      <th>canola</th>\n",
       "      <th>soybean</th>\n",
       "      <th>corn</th>\n",
       "      <th>gasolinerbob</th>\n",
       "    </tr>\n",
       "    <tr>\n",
       "      <th>Date</th>\n",
       "      <th></th>\n",
       "      <th></th>\n",
       "      <th></th>\n",
       "      <th></th>\n",
       "      <th></th>\n",
       "      <th></th>\n",
       "      <th></th>\n",
       "      <th></th>\n",
       "    </tr>\n",
       "  </thead>\n",
       "  <tbody>\n",
       "    <tr>\n",
       "      <th>2000-01-04</th>\n",
       "      <td>1.285</td>\n",
       "      <td>109.00</td>\n",
       "      <td>247.25</td>\n",
       "      <td>5.77</td>\n",
       "      <td>251.3</td>\n",
       "      <td>464.25</td>\n",
       "      <td>203.00</td>\n",
       "      <td>0.6850</td>\n",
       "    </tr>\n",
       "    <tr>\n",
       "      <th>2000-01-05</th>\n",
       "      <td>1.286</td>\n",
       "      <td>109.25</td>\n",
       "      <td>249.75</td>\n",
       "      <td>5.81</td>\n",
       "      <td>252.6</td>\n",
       "      <td>469.25</td>\n",
       "      <td>203.00</td>\n",
       "      <td>0.6758</td>\n",
       "    </tr>\n",
       "    <tr>\n",
       "      <th>2000-01-06</th>\n",
       "      <td>1.280</td>\n",
       "      <td>109.00</td>\n",
       "      <td>248.50</td>\n",
       "      <td>5.77</td>\n",
       "      <td>254.7</td>\n",
       "      <td>468.00</td>\n",
       "      <td>203.75</td>\n",
       "      <td>0.6789</td>\n",
       "    </tr>\n",
       "    <tr>\n",
       "      <th>2000-01-07</th>\n",
       "      <td>1.280</td>\n",
       "      <td>109.50</td>\n",
       "      <td>251.75</td>\n",
       "      <td>5.84</td>\n",
       "      <td>256.5</td>\n",
       "      <td>471.50</td>\n",
       "      <td>207.00</td>\n",
       "      <td>0.6610</td>\n",
       "    </tr>\n",
       "    <tr>\n",
       "      <th>2000-01-10</th>\n",
       "      <td>1.281</td>\n",
       "      <td>109.50</td>\n",
       "      <td>253.50</td>\n",
       "      <td>5.83</td>\n",
       "      <td>253.8</td>\n",
       "      <td>473.50</td>\n",
       "      <td>208.50</td>\n",
       "      <td>0.6696</td>\n",
       "    </tr>\n",
       "  </tbody>\n",
       "</table>\n",
       "</div>"
      ],
      "text/plain": [
       "            ethanol    oats   wheat  sugarcane  canola  soybean    corn  \\\n",
       "Date                                                                      \n",
       "2000-01-04    1.285  109.00  247.25       5.77   251.3   464.25  203.00   \n",
       "2000-01-05    1.286  109.25  249.75       5.81   252.6   469.25  203.00   \n",
       "2000-01-06    1.280  109.00  248.50       5.77   254.7   468.00  203.75   \n",
       "2000-01-07    1.280  109.50  251.75       5.84   256.5   471.50  207.00   \n",
       "2000-01-10    1.281  109.50  253.50       5.83   253.8   473.50  208.50   \n",
       "\n",
       "            gasolinerbob  \n",
       "Date                      \n",
       "2000-01-04        0.6850  \n",
       "2000-01-05        0.6758  \n",
       "2000-01-06        0.6789  \n",
       "2000-01-07        0.6610  \n",
       "2000-01-10        0.6696  "
      ]
     },
     "execution_count": 22,
     "metadata": {},
     "output_type": "execute_result"
    }
   ],
   "source": [
    "data_df = pd.read_csv(\"data.csv\", index_col=0)\n",
    "data_df.head()"
   ]
  },
  {
   "cell_type": "code",
   "execution_count": 23,
   "metadata": {},
   "outputs": [
    {
     "name": "stdout",
     "output_type": "stream",
     "text": [
      "[('ethanol', 'gasolinerbob', np.float64(2.4940985314177127e-05)), ('wheat', 'gasolinerbob', np.float64(4.58971535337662e-05)), ('ethanol', 'corn', np.float64(0.00032014497608145824)), ('wheat', 'soybean', np.float64(0.0006240694924619997)), ('ethanol', 'wheat', np.float64(0.0008161927883168374)), ('wheat', 'corn', np.float64(0.0008766757632328298)), ('ethanol', 'soybean', np.float64(0.0012607277609652163)), ('soybean', 'gasolinerbob', np.float64(0.0016831914668522796)), ('ethanol', 'sugarcane', np.float64(0.002467315285970824)), ('ethanol', 'oats', np.float64(0.002610780477913768)), ('corn', 'gasolinerbob', np.float64(0.0027241437615791427)), ('sugarcane', 'gasolinerbob', np.float64(0.0057463693246532915)), ('sugarcane', 'corn', np.float64(0.005773268829705492)), ('sugarcane', 'soybean', np.float64(0.007127213574761975)), ('ethanol', 'canola', np.float64(0.009708552161880908)), ('oats', 'soybean', np.float64(0.010636348203788476)), ('oats', 'wheat', np.float64(0.011458840076874373)), ('oats', 'canola', np.float64(0.011850081603009405)), ('soybean', 'corn', np.float64(0.01338936206009194)), ('oats', 'gasolinerbob', np.float64(0.02526508230066709)), ('oats', 'corn', np.float64(0.02687910797060418)), ('wheat', 'sugarcane', np.float64(0.03629963395577087)), ('sugarcane', 'canola', np.float64(0.04994363706285918))]\n"
     ]
    }
   ],
   "source": [
    "p_value_matrix, cointegrated_pairs = find_cointegrated_pairs(data_df)\n",
    "print(cointegrated_pairs)"
   ]
  },
  {
   "cell_type": "code",
   "execution_count": 24,
   "metadata": {},
   "outputs": [
    {
     "name": "stdout",
     "output_type": "stream",
     "text": [
      "[('soybean', 'corn', np.float64(24.176203310436588)), ('wheat', 'soybean', np.float64(28.417955610679048)), ('wheat', 'corn', np.float64(31.105922259068922)), ('canola', 'soybean', np.float64(35.41056158427629)), ('canola', 'corn', np.float64(37.23708389909695)), ('wheat', 'canola', np.float64(41.515406078517394)), ('oats', 'wheat', np.float64(57.412739002745994)), ('oats', 'soybean', np.float64(62.27432452448086)), ('oats', 'gasolinerbob', np.float64(64.1314300844568)), ('oats', 'canola', np.float64(64.80784122022366)), ('oats', 'corn', np.float64(67.52308191754265)), ('sugarcane', 'gasolinerbob', np.float64(68.85903983814832)), ('ethanol', 'canola', np.float64(69.5764042370054)), ('sugarcane', 'soybean', np.float64(69.5965780258989)), ('wheat', 'gasolinerbob', np.float64(69.83449472579238)), ('ethanol', 'corn', np.float64(70.21847419357726)), ('soybean', 'gasolinerbob', np.float64(71.16394468848169)), ('ethanol', 'soybean', np.float64(75.42468295346266)), ('sugarcane', 'corn', np.float64(75.72879642584238)), ('oats', 'sugarcane', np.float64(76.22867435036012)), ('wheat', 'sugarcane', np.float64(76.84887317876233)), ('corn', 'gasolinerbob', np.float64(77.25190372483272)), ('ethanol', 'wheat', np.float64(80.111395936768)), ('sugarcane', 'canola', np.float64(85.90642532165796)), ('canola', 'gasolinerbob', np.float64(91.70729317133215)), ('ethanol', 'oats', np.float64(119.35898492392882)), ('ethanol', 'sugarcane', np.float64(120.50918797945836)), ('ethanol', 'gasolinerbob', np.float64(127.15070203668922))]\n"
     ]
    }
   ],
   "source": [
    "print(find_distance_pairs(data_df))"
   ]
  },
  {
   "cell_type": "code",
   "execution_count": 25,
   "metadata": {},
   "outputs": [
    {
     "data": {
      "image/png": "[encoded data removed]",
      "text/plain": [
       "<Figure size 800x400 with 2 Axes>"
      ]
     },
     "metadata": {},
     "output_type": "display_data"
    }
   ],
   "source": [
    "# Create a mask for the upper triangle\n",
    "mask = np.triu(np.ones_like(p_value_matrix, dtype=bool))\n",
    "\n",
    "# Create a heatmap of the p-value matrix with the mask\n",
    "plt.figure(figsize=(8, 4))\n",
    "sns.heatmap(\n",
    "    p_value_matrix.T,\n",
    "    mask=mask,\n",
    "    xticklabels=data_df.columns[1:],\n",
    "    yticklabels=data_df.columns[1:],\n",
    "    annot=True,\n",
    "    cmap=\"coolwarm\",\n",
    "    linewidths=0.5,\n",
    ")\n",
    "plt.title(\"Heatmap of P-values for Cointegration Test\")\n",
    "plt.show()"
   ]
  },
  {
   "cell_type": "code",
   "execution_count": 26,
   "metadata": {},
   "outputs": [
    {
     "name": "stderr",
     "output_type": "stream",
     "text": [
      "100%|██████████| 305/305 [00:41<00:00,  7.42it/s]\n"
     ]
    },
    {
     "data": {
      "text/plain": [
       "{'mean_return': 0.01694160332346246,\n",
       " 'std_return': 0.08684041822096081,\n",
       " 'min_return': -0.27315819224620685,\n",
       " 'max_return': 0.3125149484289771,\n",
       " 'q1_return': -0.02347336696178734,\n",
       " 'q3_return': 0.06632686543926486,\n",
       " 'sharpe_ratio': 0.19508891908322523,\n",
       " 'skew_return': -0.01826782870523002,\n",
       " 'kurtosis_return': 1.1687216349314573}"
      ]
     },
     "execution_count": 26,
     "metadata": {},
     "output_type": "execute_result"
    }
   ],
   "source": [
    "results_coint = pairs_trade_with_selection(data_df, \"cointegration\", window_size=252, sigma=2, transaction_cost=0.005)\n",
    "calculate_stats(results_coint)"
   ]
  },
  {
   "cell_type": "code",
   "execution_count": 27,
   "metadata": {},
   "outputs": [
    {
     "name": "stderr",
     "output_type": "stream",
     "text": [
      "100%|██████████| 305/305 [03:34<00:00,  1.42it/s]\n"
     ]
    },
    {
     "data": {
      "text/plain": [
       "{'mean_return': 0.02580083030805928,\n",
       " 'std_return': 0.08820086297671254,\n",
       " 'min_return': -0.40310364954152755,\n",
       " 'max_return': 0.5513246349819605,\n",
       " 'q1_return': -0.006622439843439659,\n",
       " 'q3_return': 0.07362896767590504,\n",
       " 'sharpe_ratio': 0.292523558583224,\n",
       " 'skew_return': 0.31566800468127726,\n",
       " 'kurtosis_return': 2.3286961391523517}"
      ]
     },
     "execution_count": 27,
     "metadata": {},
     "output_type": "execute_result"
    }
   ],
   "source": [
    "results_all = pairs_trade_with_selection(data_df, \"all\", window_size=252, sigma=2, transaction_cost=0.005)\n",
    "calculate_stats(results_all)"
   ]
  },
  {
   "cell_type": "code",
   "execution_count": 28,
   "metadata": {},
   "outputs": [
    {
     "data": {
      "text/plain": [
       "(array([2.000e+00, 2.000e+00, 0.000e+00, 2.000e+00, 1.300e+01, 7.000e+00,\n",
       "        1.700e+01, 3.000e+01, 4.400e+01, 6.600e+01, 9.700e+01, 1.440e+02,\n",
       "        1.920e+02, 2.800e+02, 3.830e+02, 4.750e+02, 2.546e+03, 6.500e+02,\n",
       "        7.350e+02, 7.300e+02, 5.900e+02, 4.910e+02, 3.460e+02, 2.380e+02,\n",
       "        1.410e+02, 1.080e+02, 6.500e+01, 4.200e+01, 3.400e+01, 2.500e+01,\n",
       "        1.700e+01, 6.000e+00, 5.000e+00, 5.000e+00, 3.000e+00, 1.000e+00,\n",
       "        3.000e+00, 3.000e+00, 1.000e+00, 1.000e+00]),\n",
       " array([-0.40310365, -0.37924294, -0.35538224, -0.33152153, -0.30766082,\n",
       "        -0.28380011, -0.25993941, -0.2360787 , -0.21221799, -0.18835729,\n",
       "        -0.16449658, -0.14063587, -0.11677516, -0.09291446, -0.06905375,\n",
       "        -0.04519304, -0.02133234,  0.00252837,  0.02638908,  0.05024979,\n",
       "         0.07411049,  0.0979712 ,  0.12183191,  0.14569261,  0.16955332,\n",
       "         0.19341403,  0.21727474,  0.24113544,  0.26499615,  0.28885686,\n",
       "         0.31271756,  0.33657827,  0.36043898,  0.38429969,  0.40816039,\n",
       "         0.4320211 ,  0.45588181,  0.47974251,  0.50360322,  0.52746393,\n",
       "         0.55132463]),\n",
       " <BarContainer object of 40 artists>)"
      ]
     },
     "execution_count": 28,
     "metadata": {},
     "output_type": "execute_result"
    },
    {
     "data": {
      "image/png": "[encoded data removed]",
      "text/plain": [
       "<Figure size 640x480 with 1 Axes>"
      ]
     },
     "metadata": {},
     "output_type": "display_data"
    }
   ],
   "source": [
    "plt.hist(results_all, bins=40)"
   ]
  },
  {
   "cell_type": "markdown",
   "metadata": {},
   "source": [
    "## Robustness Tests"
   ]
  },
  {
   "cell_type": "markdown",
   "metadata": {},
   "source": [
    "### Transaction fee"
   ]
  },
  {
   "cell_type": "code",
   "execution_count": 29,
   "metadata": {},
   "outputs": [
    {
     "name": "stderr",
     "output_type": "stream",
     "text": [
      "100%|██████████| 10/10 [00:55<00:00,  5.51s/it]\n"
     ]
    }
   ],
   "source": [
    "all_pairs = find_pairs_from_list(data_df.columns.tolist())\n",
    "fee_list = [0.01, 0.02, 0.03, 0.04, 0.05, 0.06, 0.07, 0.08, 0.09, 0.1]\n",
    "fee_results = []\n",
    "for fee in tqdm(fee_list):\n",
    "    results = []\n",
    "    for i, j in all_pairs:\n",
    "        _, _, temp = pairs_trade(\n",
    "            data_df, i, j, window_size=252, sigma=2, transaction_cost=fee, plot=False, figsize=(12, 4)\n",
    "        )\n",
    "        results.append(temp)\n",
    "    fee_results.append(results)"
   ]
  },
  {
   "cell_type": "code",
   "execution_count": 30,
   "metadata": {},
   "outputs": [
    {
     "data": {
      "image/png": "[encoded data removed]",
      "text/plain": [
       "<Figure size 1200x600 with 1 Axes>"
      ]
     },
     "metadata": {},
     "output_type": "display_data"
    }
   ],
   "source": [
    "# Create a figure and axis\n",
    "fig, ax = plt.subplots(figsize=(12, 6))\n",
    "\n",
    "# Create boxplots for each list in fee_results\n",
    "ax.boxplot(fee_results)\n",
    "\n",
    "# Set the x-axis labels to the corresponding fee values\n",
    "ax.set_xticklabels(fee_list)\n",
    "\n",
    "# Set the title and labels\n",
    "ax.set_title(\"Boxplots of returns for different transaction fees\")\n",
    "ax.set_xlabel(\"Transaction Fee\")\n",
    "ax.set_ylabel(\"Returns\")\n",
    "ax.hlines(0, 0, len(fee_list) + 1, linestyles=\"dashed\", colors=\"r\")\n",
    "\n",
    "# Show the plot\n",
    "plt.show()"
   ]
  },
  {
   "cell_type": "markdown",
   "metadata": {},
   "source": [
    "### Sigma"
   ]
  },
  {
   "cell_type": "code",
   "execution_count": null,
   "metadata": {},
   "outputs": [
    {
     "name": "stderr",
     "output_type": "stream",
     "text": [
      "100%|██████████| 8/8 [00:45<00:00,  5.69s/it]\n"
     ]
    }
   ],
   "source": [
    "all_pairs = find_pairs_from_list(data_df.columns[:].tolist())\n",
    "sigma_list = [0.5, 1, 1.5, 2, 2.5, 3, 3.5, 4]\n",
    "sigma_results = []\n",
    "for sigma in tqdm(sigma_list):\n",
    "    results = []\n",
    "    for i, j in all_pairs:\n",
    "        _, _, temp = pairs_trade(\n",
    "            data_df, i, j, window_size=252, sigma=sigma, transaction_cost=0.01, plot=False, figsize=(12, 4)\n",
    "        )\n",
    "        results.append(temp)\n",
    "    sigma_results.append(results)"
   ]
  },
  {
   "cell_type": "code",
   "execution_count": 32,
   "metadata": {},
   "outputs": [
    {
     "data": {
      "text/plain": [
       "['0.5', '1', '1.5', '2', '2.5', '3', '3.5', '4']"
      ]
     },
     "execution_count": 32,
     "metadata": {},
     "output_type": "execute_result"
    }
   ],
   "source": [
    "[str(x) for x in sigma_list]"
   ]
  },
  {
   "cell_type": "code",
   "execution_count": 39,
   "metadata": {},
   "outputs": [
    {
     "data": {
      "image/png": "[encoded data removed]",
      "text/plain": [
       "<Figure size 600x600 with 2 Axes>"
      ]
     },
     "metadata": {},
     "output_type": "display_data"
    }
   ],
   "source": [
    "# Create a figure and axis\n",
    "fig, ax = plt.subplots(2, figsize=(6, 6), sharex=True, gridspec_kw={\"height_ratios\": [3, 1]})\n",
    "\n",
    "# Create boxplots for each list in sigma_results\n",
    "ax[0].boxplot(sigma_results, positions=range(len(sigma_list)))\n",
    "\n",
    "# Set the title and labels\n",
    "ax[0].set_title(\"Boxplots of returns for different sigma values\")\n",
    "ax[0].set_ylabel(\"Returns\")\n",
    "ax[0].hlines(0, -5, len(sigma_list) + 1, linestyles=\"dashed\", colors=\"r\")\n",
    "\n",
    "# Calculate the number of trades for each sigma\n",
    "num_trades = [len(x) for x in sigma_results]\n",
    "\n",
    "# Create a bar chart\n",
    "bars = ax[1].bar([str(x) for x in sigma_list], num_trades, width=0.5)\n",
    "\n",
    "# Set the title and labels\n",
    "ax[1].set_xlabel(\"Sigma\")\n",
    "ax[1].set_ylabel(\"Number of Trades\")\n",
    "ax[1].set_xlabel(\"Sigma\")\n",
    "ax[1].set_ylabel(\"Number of Trades\")\n",
    "ax[1].set_xticklabels([str(x) for x in sigma_list])\n",
    "\n",
    "height = bars[0].get_height()\n",
    "# ax[1].text(\n",
    "#     bars[0].get_x() + bars[0].get_width() / 2,\n",
    "#     height - 450,\n",
    "#     str(height),\n",
    "#     ha=\"center\",\n",
    "#     va=\"bottom\",\n",
    "#     fontsize=10,\n",
    "#     color=\"white\",\n",
    "# )\n",
    "# for bar in bars[1:]:\n",
    "#     height = bar.get_height()\n",
    "#     ax[1].text(bar.get_x() + bar.get_width() / 2, height + 50, str(height), ha=\"center\", va=\"bottom\", fontsize=10)\n",
    "\n",
    "\n",
    "plt.subplots_adjust(hspace=0.05)  # Adjust the vertical space\n",
    "\n",
    "# Show the plot\n",
    "plt.show()"
   ]
  }
 ],
 "metadata": {
  "kernelspec": {
   "display_name": "temp",
   "language": "python",
   "name": "python3"
  },
  "language_info": {
   "codemirror_mode": {
    "name": "ipython",
    "version": 3
   },
   "file_extension": ".py",
   "mimetype": "text/x-python",
   "name": "python",
   "nbconvert_exporter": "python",
   "pygments_lexer": "ipython3",
   "version": "3.13.2"
  }
 },
 "nbformat": 4,
 "nbformat_minor": 2
}
