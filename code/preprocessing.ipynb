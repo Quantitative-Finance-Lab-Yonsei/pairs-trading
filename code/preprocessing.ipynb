{
 "cells": [
  {
   "cell_type": "code",
   "execution_count": null,
   "metadata": {},
   "outputs": [],
   "source": [
    "import os\n",
    "\n",
    "import matplotlib.pyplot as plt\n",
    "import pandas as pd\n",
    "\n",
    "\n",
    "pd.set_option(\"display.max_columns\", None)  # Show all columns\n",
    "pd.set_option(\"display.width\", 1000)  # Set wide enough width\n",
    "pd.set_option(\"display.expand_frame_repr\", False)  # Prevent wrapping"
   ]
  },
  {
   "cell_type": "code",
   "execution_count": null,
   "metadata": {},
   "outputs": [],
   "source": [
    "data_folder = \"../data/\"\n",
    "# Get a list of all CSV files in the data folder\n",
    "csv_files = [file for file in os.listdir(data_folder) if file.endswith(\".csv\")]\n",
    "\n",
    "# Read each CSV file into a pandas dataframe and store them in a dictionary\n",
    "dataframe_dict = {file[: file.find(\"-\")]: pd.read_csv(os.path.join(data_folder, file), header=0) for file in csv_files}\n",
    "print(\"list of .csv files: \", list(dataframe_dict.keys()))"
   ]
  },
  {
   "cell_type": "code",
   "execution_count": null,
   "metadata": {},
   "outputs": [],
   "source": [
    "dataframe_dict[\"wheat\"].head(7)"
   ]
  },
  {
   "cell_type": "code",
   "execution_count": null,
   "metadata": {},
   "outputs": [],
   "source": [
    "# Initialize an empty DataFrame to store the combined data\n",
    "combined_df = pd.DataFrame()\n",
    "\n",
    "# Iterate over each dataframe in the dictionary\n",
    "for key, df in dataframe_dict.items():\n",
    "    # Select only the 'Date' and 'Last' columns and create a copy\n",
    "    temp_df = df[[\"Time\", \"Last\"]].copy()\n",
    "    # Rename the 'Last' column to the name of the commodity\n",
    "    temp_df.columns = [\"Date\", f\"{key}\"]\n",
    "\n",
    "    # If combined_df is empty, assign temp_df to it (i.e., first iteration)\n",
    "    if combined_df.empty:\n",
    "        combined_df = temp_df\n",
    "    else:\n",
    "        # Merge the temp_df with combined_df on 'Date' column\n",
    "        combined_df = pd.merge(combined_df, temp_df, on=\"Date\", how=\"outer\")\n",
    "\n",
    "combined_df.set_index(\"Date\", inplace=True)\n",
    "combined_df.head()"
   ]
  },
  {
   "cell_type": "code",
   "execution_count": null,
   "metadata": {},
   "outputs": [],
   "source": [
    "# Find the first non-NA/null index for each column in the combined dataframe\n",
    "first_non_na_indices = combined_df.apply(lambda col: col.first_valid_index())\n",
    "\n",
    "# Print the indices of the first non-NA/null values for each column\n",
    "print(first_non_na_indices)"
   ]
  },
  {
   "cell_type": "code",
   "execution_count": null,
   "metadata": {},
   "outputs": [],
   "source": [
    "# Interpolate missing values in the combined dataframe using linear interpolation\n",
    "interpolated_df = combined_df.interpolate(method=\"linear\")\n",
    "\n",
    "# Select data from a specific index onwards\n",
    "data_df = interpolated_df[first_non_na_indices.max() :]"
   ]
  },
  {
   "cell_type": "code",
   "execution_count": null,
   "metadata": {},
   "outputs": [],
   "source": [
    "# Save the data_df to a CSV file\n",
    "data_df.to_csv(\"data.csv\")"
   ]
  },
  {
   "cell_type": "code",
   "execution_count": null,
   "metadata": {},
   "outputs": [],
   "source": [
    "data_df.plot(figsize=(6, 4), title=\"Commodity Prices\")\n",
    "plt.xticks(rotation=-90)\n",
    "plt.ylabel(\"Price\")\n",
    "plt.xlabel(\"Date\")"
   ]
  }
 ],
 "metadata": {
  "kernelspec": {
   "display_name": "pairs-trading",
   "language": "python",
   "name": "python3"
  },
  "language_info": {
   "codemirror_mode": {
    "name": "ipython",
    "version": 3
   },
   "file_extension": ".py",
   "mimetype": "text/x-python",
   "name": "python",
   "nbconvert_exporter": "python",
   "pygments_lexer": "ipython3",
   "version": "3.13.2"
  }
 },
 "nbformat": 4,
 "nbformat_minor": 2
}
