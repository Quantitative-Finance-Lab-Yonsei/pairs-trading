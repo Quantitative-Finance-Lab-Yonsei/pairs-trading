{
 "cells": [
  {
   "cell_type": "code",
   "execution_count": 1,
   "metadata": {},
   "outputs": [],
   "source": [
    "import os\n",
    "\n",
    "import matplotlib.pyplot as plt\n",
    "import pandas as pd"
   ]
  },
  {
   "cell_type": "code",
   "execution_count": 2,
   "metadata": {},
   "outputs": [
    {
     "name": "stdout",
     "output_type": "stream",
     "text": [
      "list of .csv files:  ['ethanol', 'oats', 'wheat', 'sugarcane', 'canola', 'soybean', 'corn', 'gasolinerbob']\n"
     ]
    }
   ],
   "source": [
    "data_folder = \"../data/\"\n",
    "# Get a list of all CSV files in the data folder\n",
    "csv_files = [file for file in os.listdir(data_folder) if file.endswith(\".csv\")]\n",
    "\n",
    "# Read each CSV file into a pandas dataframe and store them in a dictionary\n",
    "dataframe_dict = {file[: file.find(\"-\")]: pd.read_csv(os.path.join(data_folder, file), header=0) for file in csv_files}\n",
    "print(\"list of .csv files: \", list(dataframe_dict.keys()))"
   ]
  },
  {
   "cell_type": "code",
   "execution_count": 3,
   "metadata": {},
   "outputs": [
    {
     "data": {
      "application/vnd.microsoft.datawrangler.viewer.v0+json": {
       "columns": [
        {
         "name": "index",
         "rawType": "int64",
         "type": "integer"
        },
        {
         "name": "Symbol",
         "rawType": "object",
         "type": "string"
        },
        {
         "name": "Time",
         "rawType": "object",
         "type": "string"
        },
        {
         "name": "Open",
         "rawType": "float64",
         "type": "float"
        },
        {
         "name": "High",
         "rawType": "float64",
         "type": "float"
        },
        {
         "name": "Low",
         "rawType": "float64",
         "type": "float"
        },
        {
         "name": "Last",
         "rawType": "float64",
         "type": "float"
        },
        {
         "name": "Change",
         "rawType": "float64",
         "type": "float"
        },
        {
         "name": "%Chg",
         "rawType": "object",
         "type": "string"
        },
        {
         "name": "Volume",
         "rawType": "int64",
         "type": "integer"
        },
        {
         "name": "Open Int",
         "rawType": "int64",
         "type": "integer"
        }
       ],
       "conversionMethod": "pd.DataFrame",
       "ref": "63ffca22-ca7c-4633-82c1-13113b628f23",
       "rows": [
        [
         "0",
         "ZWH00",
         "2000-01-03",
         "249.0",
         "251.5",
         "245.25",
         "247.5",
         "-1.0",
         "-0.40%",
         "33410",
         "122038"
        ],
        [
         "1",
         "ZWH00",
         "2000-01-04",
         "247.5",
         "248.0",
         "241.0",
         "247.25",
         "-0.25",
         "-0.10%",
         "48770",
         "124913"
        ],
        [
         "2",
         "ZWH00",
         "2000-01-05",
         "247.25",
         "250.0",
         "246.0",
         "249.75",
         "2.5",
         "+1.01%",
         "42672",
         "124335"
        ],
        [
         "3",
         "ZWH00",
         "2000-01-06",
         "250.0",
         "251.0",
         "247.5",
         "248.5",
         "-1.25",
         "-0.50%",
         "39286",
         "125219"
        ],
        [
         "4",
         "ZWH00",
         "2000-01-07",
         "248.25",
         "252.0",
         "246.0",
         "251.75",
         "3.25",
         "+1.31%",
         "41426",
         "127130"
        ],
        [
         "5",
         "ZWH00",
         "2000-01-10",
         "251.25",
         "255.0",
         "248.75",
         "253.5",
         "1.75",
         "+0.70%",
         "45158",
         "128204"
        ],
        [
         "6",
         "ZWH00",
         "2000-01-11",
         "253.5",
         "256.0",
         "251.5",
         "253.75",
         "0.25",
         "+0.10%",
         "47196",
         "127807"
        ]
       ],
       "shape": {
        "columns": 10,
        "rows": 7
       }
      },
      "text/html": [
       "<div>\n",
       "<style scoped>\n",
       "    .dataframe tbody tr th:only-of-type {\n",
       "        vertical-align: middle;\n",
       "    }\n",
       "\n",
       "    .dataframe tbody tr th {\n",
       "        vertical-align: top;\n",
       "    }\n",
       "\n",
       "    .dataframe thead th {\n",
       "        text-align: right;\n",
       "    }\n",
       "</style>\n",
       "<table border=\"1\" class=\"dataframe\">\n",
       "  <thead>\n",
       "    <tr style=\"text-align: right;\">\n",
       "      <th></th>\n",
       "      <th>Symbol</th>\n",
       "      <th>Time</th>\n",
       "      <th>Open</th>\n",
       "      <th>High</th>\n",
       "      <th>Low</th>\n",
       "      <th>Last</th>\n",
       "      <th>Change</th>\n",
       "      <th>%Chg</th>\n",
       "      <th>Volume</th>\n",
       "      <th>Open Int</th>\n",
       "    </tr>\n",
       "  </thead>\n",
       "  <tbody>\n",
       "    <tr>\n",
       "      <th>0</th>\n",
       "      <td>ZWH00</td>\n",
       "      <td>2000-01-03</td>\n",
       "      <td>249.00</td>\n",
       "      <td>251.5</td>\n",
       "      <td>245.25</td>\n",
       "      <td>247.50</td>\n",
       "      <td>-1.00</td>\n",
       "      <td>-0.40%</td>\n",
       "      <td>33410</td>\n",
       "      <td>122038</td>\n",
       "    </tr>\n",
       "    <tr>\n",
       "      <th>1</th>\n",
       "      <td>ZWH00</td>\n",
       "      <td>2000-01-04</td>\n",
       "      <td>247.50</td>\n",
       "      <td>248.0</td>\n",
       "      <td>241.00</td>\n",
       "      <td>247.25</td>\n",
       "      <td>-0.25</td>\n",
       "      <td>-0.10%</td>\n",
       "      <td>48770</td>\n",
       "      <td>124913</td>\n",
       "    </tr>\n",
       "    <tr>\n",
       "      <th>2</th>\n",
       "      <td>ZWH00</td>\n",
       "      <td>2000-01-05</td>\n",
       "      <td>247.25</td>\n",
       "      <td>250.0</td>\n",
       "      <td>246.00</td>\n",
       "      <td>249.75</td>\n",
       "      <td>2.50</td>\n",
       "      <td>+1.01%</td>\n",
       "      <td>42672</td>\n",
       "      <td>124335</td>\n",
       "    </tr>\n",
       "    <tr>\n",
       "      <th>3</th>\n",
       "      <td>ZWH00</td>\n",
       "      <td>2000-01-06</td>\n",
       "      <td>250.00</td>\n",
       "      <td>251.0</td>\n",
       "      <td>247.50</td>\n",
       "      <td>248.50</td>\n",
       "      <td>-1.25</td>\n",
       "      <td>-0.50%</td>\n",
       "      <td>39286</td>\n",
       "      <td>125219</td>\n",
       "    </tr>\n",
       "    <tr>\n",
       "      <th>4</th>\n",
       "      <td>ZWH00</td>\n",
       "      <td>2000-01-07</td>\n",
       "      <td>248.25</td>\n",
       "      <td>252.0</td>\n",
       "      <td>246.00</td>\n",
       "      <td>251.75</td>\n",
       "      <td>3.25</td>\n",
       "      <td>+1.31%</td>\n",
       "      <td>41426</td>\n",
       "      <td>127130</td>\n",
       "    </tr>\n",
       "    <tr>\n",
       "      <th>5</th>\n",
       "      <td>ZWH00</td>\n",
       "      <td>2000-01-10</td>\n",
       "      <td>251.25</td>\n",
       "      <td>255.0</td>\n",
       "      <td>248.75</td>\n",
       "      <td>253.50</td>\n",
       "      <td>1.75</td>\n",
       "      <td>+0.70%</td>\n",
       "      <td>45158</td>\n",
       "      <td>128204</td>\n",
       "    </tr>\n",
       "    <tr>\n",
       "      <th>6</th>\n",
       "      <td>ZWH00</td>\n",
       "      <td>2000-01-11</td>\n",
       "      <td>253.50</td>\n",
       "      <td>256.0</td>\n",
       "      <td>251.50</td>\n",
       "      <td>253.75</td>\n",
       "      <td>0.25</td>\n",
       "      <td>+0.10%</td>\n",
       "      <td>47196</td>\n",
       "      <td>127807</td>\n",
       "    </tr>\n",
       "  </tbody>\n",
       "</table>\n",
       "</div>"
      ],
      "text/plain": [
       "  Symbol        Time    Open   High     Low    Last  Change    %Chg  Volume  \\\n",
       "0  ZWH00  2000-01-03  249.00  251.5  245.25  247.50   -1.00  -0.40%   33410   \n",
       "1  ZWH00  2000-01-04  247.50  248.0  241.00  247.25   -0.25  -0.10%   48770   \n",
       "2  ZWH00  2000-01-05  247.25  250.0  246.00  249.75    2.50  +1.01%   42672   \n",
       "3  ZWH00  2000-01-06  250.00  251.0  247.50  248.50   -1.25  -0.50%   39286   \n",
       "4  ZWH00  2000-01-07  248.25  252.0  246.00  251.75    3.25  +1.31%   41426   \n",
       "5  ZWH00  2000-01-10  251.25  255.0  248.75  253.50    1.75  +0.70%   45158   \n",
       "6  ZWH00  2000-01-11  253.50  256.0  251.50  253.75    0.25  +0.10%   47196   \n",
       "\n",
       "   Open Int  \n",
       "0    122038  \n",
       "1    124913  \n",
       "2    124335  \n",
       "3    125219  \n",
       "4    127130  \n",
       "5    128204  \n",
       "6    127807  "
      ]
     },
     "execution_count": 3,
     "metadata": {},
     "output_type": "execute_result"
    }
   ],
   "source": [
    "dataframe_dict[\"wheat\"].head(7)"
   ]
  },
  {
   "cell_type": "code",
   "execution_count": 4,
   "metadata": {},
   "outputs": [
    {
     "data": {
      "application/vnd.microsoft.datawrangler.viewer.v0+json": {
       "columns": [
        {
         "name": "Date",
         "rawType": "object",
         "type": "string"
        },
        {
         "name": "ethanol",
         "rawType": "float64",
         "type": "float"
        },
        {
         "name": "oats",
         "rawType": "float64",
         "type": "float"
        },
        {
         "name": "wheat",
         "rawType": "float64",
         "type": "float"
        },
        {
         "name": "sugarcane",
         "rawType": "float64",
         "type": "float"
        },
        {
         "name": "canola",
         "rawType": "float64",
         "type": "float"
        },
        {
         "name": "soybean",
         "rawType": "float64",
         "type": "float"
        },
        {
         "name": "corn",
         "rawType": "float64",
         "type": "float"
        },
        {
         "name": "gasolinerbob",
         "rawType": "float64",
         "type": "float"
        }
       ],
       "conversionMethod": "pd.DataFrame",
       "ref": "c02acfb6-1a60-4152-a3c6-632417b37b53",
       "rows": [
        [
         "2000-01-03",
         "1.286",
         "108.25",
         "247.5",
         "6.1",
         "251.7",
         "456.5",
         "200.75",
         null
        ],
        [
         "2000-01-04",
         "1.285",
         "109.0",
         "247.25",
         "5.77",
         "251.3",
         "464.25",
         "203.0",
         "0.685"
        ],
        [
         "2000-01-05",
         "1.286",
         "109.25",
         "249.75",
         "5.81",
         "252.6",
         "469.25",
         "203.0",
         "0.6758"
        ],
        [
         "2000-01-06",
         "1.28",
         "109.0",
         "248.5",
         "5.77",
         "254.7",
         "468.0",
         "203.75",
         "0.6789"
        ],
        [
         "2000-01-07",
         "1.28",
         "109.5",
         "251.75",
         "5.84",
         "256.5",
         "471.5",
         "207.0",
         "0.661"
        ]
       ],
       "shape": {
        "columns": 8,
        "rows": 5
       }
      },
      "text/html": [
       "<div>\n",
       "<style scoped>\n",
       "    .dataframe tbody tr th:only-of-type {\n",
       "        vertical-align: middle;\n",
       "    }\n",
       "\n",
       "    .dataframe tbody tr th {\n",
       "        vertical-align: top;\n",
       "    }\n",
       "\n",
       "    .dataframe thead th {\n",
       "        text-align: right;\n",
       "    }\n",
       "</style>\n",
       "<table border=\"1\" class=\"dataframe\">\n",
       "  <thead>\n",
       "    <tr style=\"text-align: right;\">\n",
       "      <th></th>\n",
       "      <th>ethanol</th>\n",
       "      <th>oats</th>\n",
       "      <th>wheat</th>\n",
       "      <th>sugarcane</th>\n",
       "      <th>canola</th>\n",
       "      <th>soybean</th>\n",
       "      <th>corn</th>\n",
       "      <th>gasolinerbob</th>\n",
       "    </tr>\n",
       "    <tr>\n",
       "      <th>Date</th>\n",
       "      <th></th>\n",
       "      <th></th>\n",
       "      <th></th>\n",
       "      <th></th>\n",
       "      <th></th>\n",
       "      <th></th>\n",
       "      <th></th>\n",
       "      <th></th>\n",
       "    </tr>\n",
       "  </thead>\n",
       "  <tbody>\n",
       "    <tr>\n",
       "      <th>2000-01-03</th>\n",
       "      <td>1.286</td>\n",
       "      <td>108.25</td>\n",
       "      <td>247.50</td>\n",
       "      <td>6.10</td>\n",
       "      <td>251.7</td>\n",
       "      <td>456.50</td>\n",
       "      <td>200.75</td>\n",
       "      <td>NaN</td>\n",
       "    </tr>\n",
       "    <tr>\n",
       "      <th>2000-01-04</th>\n",
       "      <td>1.285</td>\n",
       "      <td>109.00</td>\n",
       "      <td>247.25</td>\n",
       "      <td>5.77</td>\n",
       "      <td>251.3</td>\n",
       "      <td>464.25</td>\n",
       "      <td>203.00</td>\n",
       "      <td>0.6850</td>\n",
       "    </tr>\n",
       "    <tr>\n",
       "      <th>2000-01-05</th>\n",
       "      <td>1.286</td>\n",
       "      <td>109.25</td>\n",
       "      <td>249.75</td>\n",
       "      <td>5.81</td>\n",
       "      <td>252.6</td>\n",
       "      <td>469.25</td>\n",
       "      <td>203.00</td>\n",
       "      <td>0.6758</td>\n",
       "    </tr>\n",
       "    <tr>\n",
       "      <th>2000-01-06</th>\n",
       "      <td>1.280</td>\n",
       "      <td>109.00</td>\n",
       "      <td>248.50</td>\n",
       "      <td>5.77</td>\n",
       "      <td>254.7</td>\n",
       "      <td>468.00</td>\n",
       "      <td>203.75</td>\n",
       "      <td>0.6789</td>\n",
       "    </tr>\n",
       "    <tr>\n",
       "      <th>2000-01-07</th>\n",
       "      <td>1.280</td>\n",
       "      <td>109.50</td>\n",
       "      <td>251.75</td>\n",
       "      <td>5.84</td>\n",
       "      <td>256.5</td>\n",
       "      <td>471.50</td>\n",
       "      <td>207.00</td>\n",
       "      <td>0.6610</td>\n",
       "    </tr>\n",
       "  </tbody>\n",
       "</table>\n",
       "</div>"
      ],
      "text/plain": [
       "            ethanol    oats   wheat  sugarcane  canola  soybean    corn  \\\n",
       "Date                                                                      \n",
       "2000-01-03    1.286  108.25  247.50       6.10   251.7   456.50  200.75   \n",
       "2000-01-04    1.285  109.00  247.25       5.77   251.3   464.25  203.00   \n",
       "2000-01-05    1.286  109.25  249.75       5.81   252.6   469.25  203.00   \n",
       "2000-01-06    1.280  109.00  248.50       5.77   254.7   468.00  203.75   \n",
       "2000-01-07    1.280  109.50  251.75       5.84   256.5   471.50  207.00   \n",
       "\n",
       "            gasolinerbob  \n",
       "Date                      \n",
       "2000-01-03           NaN  \n",
       "2000-01-04        0.6850  \n",
       "2000-01-05        0.6758  \n",
       "2000-01-06        0.6789  \n",
       "2000-01-07        0.6610  "
      ]
     },
     "execution_count": 4,
     "metadata": {},
     "output_type": "execute_result"
    }
   ],
   "source": [
    "# Initialize an empty DataFrame to store the combined data\n",
    "combined_df = pd.DataFrame()\n",
    "\n",
    "# Iterate over each dataframe in the dictionary\n",
    "for key, df in dataframe_dict.items():\n",
    "    # Select only the 'Date' and 'Last' columns and create a copy\n",
    "    temp_df = df[[\"Time\", \"Last\"]].copy()\n",
    "    # Rename the 'Close' column to the name of the commodity\n",
    "    temp_df.columns = [\"Date\", f\"{key}\"]\n",
    "\n",
    "    # If combined_df is empty, assign temp_df to it (i.e., first iteration)\n",
    "    if combined_df.empty:\n",
    "        combined_df = temp_df\n",
    "    else:\n",
    "        # Merge the temp_df with combined_df on 'Date' column\n",
    "        combined_df = pd.merge(combined_df, temp_df, on=\"Date\", how=\"outer\")\n",
    "\n",
    "combined_df.set_index(\"Date\", inplace=True)\n",
    "combined_df.head()"
   ]
  },
  {
   "cell_type": "code",
   "execution_count": 5,
   "metadata": {},
   "outputs": [
    {
     "name": "stdout",
     "output_type": "stream",
     "text": [
      "ethanol         2000-01-03\n",
      "oats            2000-01-03\n",
      "wheat           2000-01-03\n",
      "sugarcane       2000-01-03\n",
      "canola          2000-01-03\n",
      "soybean         2000-01-03\n",
      "corn            2000-01-03\n",
      "gasolinerbob    2000-01-04\n",
      "dtype: object\n"
     ]
    }
   ],
   "source": [
    "# Find the first non-NA/null index for each column in the combined dataframe\n",
    "first_non_na_indices = combined_df.apply(lambda col: col.first_valid_index())\n",
    "\n",
    "# Print the indices of the first non-NA/null values for each column\n",
    "print(first_non_na_indices)"
   ]
  },
  {
   "cell_type": "code",
   "execution_count": 6,
   "metadata": {},
   "outputs": [],
   "source": [
    "# Interpolate missing values in the combined dataframe using linear interpolation\n",
    "interpolated_df = combined_df.interpolate(method=\"linear\")\n",
    "\n",
    "# Select data from a specific index onwards\n",
    "data_df = interpolated_df[first_non_na_indices.max() :]"
   ]
  },
  {
   "cell_type": "code",
   "execution_count": 7,
   "metadata": {},
   "outputs": [],
   "source": [
    "# Save the data_df to a CSV file\n",
    "data_df.to_csv(\"data.csv\")"
   ]
  },
  {
   "cell_type": "code",
   "execution_count": 8,
   "metadata": {},
   "outputs": [
    {
     "data": {
      "text/plain": [
       "Text(0.5, 0, 'Date')"
      ]
     },
     "execution_count": 8,
     "metadata": {},
     "output_type": "execute_result"
    },
    {
     "data": {
      "image/png": "[encoded data removed]",
      "text/plain": [
       "<Figure size 600x400 with 1 Axes>"
      ]
     },
     "metadata": {},
     "output_type": "display_data"
    }
   ],
   "source": [
    "data_df.plot(figsize=(6, 4), title=\"Commodity Prices\")\n",
    "plt.xticks(rotation=-90)\n",
    "plt.ylabel(\"Price\")\n",
    "plt.xlabel(\"Date\")"
   ]
  }
 ],
 "metadata": {
  "kernelspec": {
   "display_name": "temp",
   "language": "python",
   "name": "python3"
  },
  "language_info": {
   "codemirror_mode": {
    "name": "ipython",
    "version": 3
   },
   "file_extension": ".py",
   "mimetype": "text/x-python",
   "name": "python",
   "nbconvert_exporter": "python",
   "pygments_lexer": "ipython3",
   "version": "3.13.2"
  }
 },
 "nbformat": 4,
 "nbformat_minor": 2
}
